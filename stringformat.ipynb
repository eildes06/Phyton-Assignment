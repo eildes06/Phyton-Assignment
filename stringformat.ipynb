{
  "nbformat": 4,
  "nbformat_minor": 0,
  "metadata": {
    "colab": {
      "name": "stringformat.ipynb",
      "provenance": [],
      "authorship_tag": "ABX9TyPOehiOHH135wizk5DU3FGq",
      "include_colab_link": true
    },
    "kernelspec": {
      "name": "python3",
      "display_name": "Python 3"
    },
    "language_info": {
      "name": "python"
    }
  },
  "cells": [
    {
      "cell_type": "markdown",
      "metadata": {
        "id": "view-in-github",
        "colab_type": "text"
      },
      "source": [
        "<a href=\"https://colab.research.google.com/github/eildes06/Phyton-Assignment/blob/main/stringformat.ipynb\" target=\"_parent\"><img src=\"https://colab.research.google.com/assets/colab-badge.svg\" alt=\"Open In Colab\"/></a>"
      ]
    },
    {
      "cell_type": "code",
      "execution_count": 1,
      "metadata": {
        "colab": {
          "base_uri": "https://localhost:8080/"
        },
        "id": "0OjEyPTzv0U_",
        "outputId": "adcd8ec9-cf79-4b04-9c96-aed75ef2dec0"
      },
      "outputs": [
        {
          "output_type": "stream",
          "name": "stdout",
          "text": [
            "hello, hans hulk\n",
            "hello, hans hulk \n",
            "hello, hans hulk \n",
            "hello, hans hulk \n"
          ]
        }
      ],
      "source": [
        "first= \"hans\"\n",
        "last= \"hulk\"\n",
        "print (\"hello, \"+ first +\" \" + last)\n",
        "print (\"hello, {} {} \".format(first , last ))\n",
        "print (\"hello, {0} {1} \".format(first , last ))\n",
        "print (f\"hello, {first} {last} \")"
      ]
    },
    {
      "cell_type": "code",
      "source": [
        "firs=\"chic\"\n",
        "nam= \"koly\"\n",
        "#output=\"hello, \" + firs +' '+nam\n",
        "#output= 'hello, {} {}'.format(firs,nam)\n",
        "#output= \"hello, {1},{0}\".format(firs,nam)\n",
        "output=f\"hello, {firs} {nam}\"\n",
        "print(output)\n"
      ],
      "metadata": {
        "colab": {
          "base_uri": "https://localhost:8080/"
        },
        "id": "z6hKIkwb6qfI",
        "outputId": "b2426662-40e3-442d-febe-5f6489dd5120"
      },
      "execution_count": 9,
      "outputs": [
        {
          "output_type": "stream",
          "name": "stdout",
          "text": [
            "hello, chic koly\n"
          ]
        }
      ]
    },
    {
      "cell_type": "code",
      "source": [
        ""
      ],
      "metadata": {
        "id": "o-sINOp-6qj2"
      },
      "execution_count": null,
      "outputs": []
    },
    {
      "cell_type": "code",
      "source": [
        ""
      ],
      "metadata": {
        "id": "8-xQnuJv6qnm"
      },
      "execution_count": null,
      "outputs": []
    }
  ]
}